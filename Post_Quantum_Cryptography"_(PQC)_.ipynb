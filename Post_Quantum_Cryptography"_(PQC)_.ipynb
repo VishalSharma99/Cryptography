{
  "nbformat": 4,
  "nbformat_minor": 0,
  "metadata": {
    "colab": {
      "provenance": [],
      "authorship_tag": "ABX9TyOEIfCaj0Xvc06J8rzw1qtE",
      "include_colab_link": true
    },
    "kernelspec": {
      "name": "python3",
      "display_name": "Python 3"
    },
    "language_info": {
      "name": "python"
    }
  },
  "cells": [
    {
      "cell_type": "markdown",
      "metadata": {
        "id": "view-in-github",
        "colab_type": "text"
      },
      "source": [
        "<a href=\"https://colab.research.google.com/github/VishalSharma99/Cryptography/blob/main/Post_Quantum_Cryptography%22_(PQC)_.ipynb\" target=\"_parent\"><img src=\"https://colab.research.google.com/assets/colab-badge.svg\" alt=\"Open In Colab\"/></a>"
      ]
    },
    {
      "cell_type": "code",
      "source": [
        "!pip install pynacl\n"
      ],
      "metadata": {
        "colab": {
          "base_uri": "https://localhost:8080/"
        },
        "id": "ppPzXEbVTkhW",
        "outputId": "67e55840-e4ee-4102-ebdb-198afb9d7fd8"
      },
      "execution_count": 1,
      "outputs": [
        {
          "output_type": "stream",
          "name": "stdout",
          "text": [
            "Collecting pynacl\n",
            "  Downloading pynacl-1.6.0-cp38-abi3-manylinux_2_34_x86_64.whl.metadata (9.4 kB)\n",
            "Requirement already satisfied: cffi>=1.4.1 in /usr/local/lib/python3.12/dist-packages (from pynacl) (2.0.0)\n",
            "Requirement already satisfied: pycparser in /usr/local/lib/python3.12/dist-packages (from cffi>=1.4.1->pynacl) (2.23)\n",
            "Downloading pynacl-1.6.0-cp38-abi3-manylinux_2_34_x86_64.whl (1.4 MB)\n",
            "\u001b[2K   \u001b[90m━━━━━━━━━━━━━━━━━━━━━━━━━━━━━━━━━━━━━━━━\u001b[0m \u001b[32m1.4/1.4 MB\u001b[0m \u001b[31m13.7 MB/s\u001b[0m eta \u001b[36m0:00:00\u001b[0m\n",
            "\u001b[?25hInstalling collected packages: pynacl\n",
            "Successfully installed pynacl-1.6.0\n"
          ]
        }
      ]
    },
    {
      "cell_type": "code",
      "source": [
        "import os\n",
        "import string\n",
        "from nacl.utils import random as nacl_random\n",
        "\n",
        "def generate_password(length=12, use_pynacl=False):\n",
        "    lowercase = string.ascii_lowercase\n",
        "    uppercase = string.ascii_uppercase\n",
        "    digits = string.digits\n",
        "    symbols = string.punctuation\n",
        "    all_characters = lowercase + uppercase + digits + symbols\n",
        "\n",
        "    if use_pynacl:\n",
        "        password_bytes = nacl_random(length)\n",
        "    else:\n",
        "        password_bytes = os.urandom(length)\n",
        "\n",
        "    password = ''.join([all_characters[b % len(all_characters)] for b in password_bytes])\n",
        "\n",
        "    return password\n",
        "\n",
        "# Test the function\n",
        "password = generate_password(length=16, use_pynacl=True)\n",
        "print(f\"Generated Password: {password}\")\n"
      ],
      "metadata": {
        "colab": {
          "base_uri": "https://localhost:8080/"
        },
        "id": "11i-Q-MwUCqU",
        "outputId": "1d8f58a7-fe56-4d38-a1b4-5d4a194bf651"
      },
      "execution_count": 2,
      "outputs": [
        {
          "output_type": "stream",
          "name": "stdout",
          "text": [
            "Generated Password: TZX1^Nl_z4|}NUhH\n"
          ]
        }
      ]
    },
    {
      "cell_type": "code",
      "source": [
        "import math\n",
        "\n",
        "def calculate_entropy(password):\n",
        "    all_characters = string.ascii_letters + string.digits + string.punctuation\n",
        "    possible_symbols = len(all_characters)\n",
        "\n",
        "    password_length = len(password)\n",
        "    entropy = math.log2(possible_symbols ** password_length)\n",
        "\n",
        "    return entropy\n",
        "\n",
        "# Calculate entropy\n",
        "entropy = calculate_entropy(password)\n",
        "print(f\"Password Entropy: {entropy} bits\")\n"
      ],
      "metadata": {
        "colab": {
          "base_uri": "https://localhost:8080/"
        },
        "id": "j9jt17ZGUGTG",
        "outputId": "d7b1b045-f609-4fc7-cc69-402784f20d71"
      },
      "execution_count": 3,
      "outputs": [
        {
          "output_type": "stream",
          "name": "stdout",
          "text": [
            "Password Entropy: 104.8734216268422 bits\n"
          ]
        }
      ]
    },
    {
      "cell_type": "code",
      "source": [
        "def grade_complexity(entropy):\n",
        "    if entropy < 40:\n",
        "        return \"Weak\"\n",
        "    elif entropy < 80:\n",
        "        return \"Moderate\"\n",
        "    else:\n",
        "        return \"Strong\"\n",
        "\n",
        "# Get complexity\n",
        "complexity = grade_complexity(entropy)\n",
        "print(f\"Password Complexity: {complexity}\")\n"
      ],
      "metadata": {
        "colab": {
          "base_uri": "https://localhost:8080/"
        },
        "id": "vrvPf4C4UJeB",
        "outputId": "2f23dfeb-dcc7-4fa6-b6e9-30d325c82baf"
      },
      "execution_count": 4,
      "outputs": [
        {
          "output_type": "stream",
          "name": "stdout",
          "text": [
            "Password Complexity: Strong\n"
          ]
        }
      ]
    },
    {
      "cell_type": "code",
      "source": [
        "!pip install pytest\n"
      ],
      "metadata": {
        "colab": {
          "base_uri": "https://localhost:8080/"
        },
        "id": "Wo2s0TuFUMW7",
        "outputId": "92599167-231b-4098-f816-af6d5e58d24c"
      },
      "execution_count": 5,
      "outputs": [
        {
          "output_type": "stream",
          "name": "stdout",
          "text": [
            "Requirement already satisfied: pytest in /usr/local/lib/python3.12/dist-packages (8.4.2)\n",
            "Requirement already satisfied: iniconfig>=1 in /usr/local/lib/python3.12/dist-packages (from pytest) (2.1.0)\n",
            "Requirement already satisfied: packaging>=20 in /usr/local/lib/python3.12/dist-packages (from pytest) (25.0)\n",
            "Requirement already satisfied: pluggy<2,>=1.5 in /usr/local/lib/python3.12/dist-packages (from pytest) (1.6.0)\n",
            "Requirement already satisfied: pygments>=2.7.2 in /usr/local/lib/python3.12/dist-packages (from pytest) (2.19.2)\n"
          ]
        }
      ]
    },
    {
      "cell_type": "code",
      "source": [
        "!pytest test_password_generator.py\n"
      ],
      "metadata": {
        "colab": {
          "base_uri": "https://localhost:8080/"
        },
        "id": "dMRHJSnsURB3",
        "outputId": "7e26c2c6-d172-48f7-81d1-54cfaed2fdb3"
      },
      "execution_count": 6,
      "outputs": [
        {
          "output_type": "stream",
          "name": "stdout",
          "text": [
            "\u001b[1m============================= test session starts ==============================\u001b[0m\n",
            "platform linux -- Python 3.12.12, pytest-8.4.2, pluggy-1.6.0\n",
            "rootdir: /content\n",
            "plugins: anyio-4.11.0, typeguard-4.4.4, langsmith-0.4.35\n",
            "\u001b[1mcollecting ... \u001b[0m\u001b[1m\rcollected 0 items                                                              \u001b[0m\n",
            "\n",
            "\u001b[33m============================ \u001b[33mno tests ran\u001b[0m\u001b[33m in 0.01s\u001b[0m\u001b[33m =============================\u001b[0m\n",
            "\u001b[31mERROR: file or directory not found: test_password_generator.py\n",
            "\u001b[0m\n"
          ]
        }
      ]
    }
  ]
}