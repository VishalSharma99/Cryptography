{
  "nbformat": 4,
  "nbformat_minor": 0,
  "metadata": {
    "colab": {
      "provenance": [],
      "authorship_tag": "ABX9TyOEIfCaj0Xvc06J8rzw1qtE",
      "include_colab_link": true
    },
    "kernelspec": {
      "name": "python3",
      "display_name": "Python 3"
    },
    "language_info": {
      "name": "python"
    }
  },
  "cells": [
    {
      "cell_type": "markdown",
      "metadata": {
        "id": "view-in-github",
        "colab_type": "text"
      },
      "source": [
        "<a href=\"https://colab.research.google.com/github/VishalSharma99/Cryptography/blob/main/Post_Quantum_Cryptography%22_(PQC)_.ipynb\" target=\"_parent\"><img src=\"https://colab.research.google.com/assets/colab-badge.svg\" alt=\"Open In Colab\"/></a>"
      ]
    },
    {
      "cell_type": "code",
      "source": [
        "!pip install pynacl\n"
      ],
      "metadata": {
        "id": "ppPzXEbVTkhW"
      },
      "execution_count": null,
      "outputs": []
    },
    {
      "cell_type": "code",
      "source": [
        "import os\n",
        "import string\n",
        "from nacl.utils import random as nacl_random\n",
        "\n",
        "def generate_password(length=12, use_pynacl=False):\n",
        "    lowercase = string.ascii_lowercase\n",
        "    uppercase = string.ascii_uppercase\n",
        "    digits = string.digits\n",
        "    symbols = string.punctuation\n",
        "    all_characters = lowercase + uppercase + digits + symbols\n",
        "\n",
        "    if use_pynacl:\n",
        "        password_bytes = nacl_random(length)\n",
        "    else:\n",
        "        password_bytes = os.urandom(length)\n",
        "\n",
        "    password = ''.join([all_characters[b % len(all_characters)] for b in password_bytes])\n",
        "\n",
        "    return password\n",
        "\n",
        "# Test the function\n",
        "password = generate_password(length=16, use_pynacl=True)\n",
        "print(f\"Generated Password: {password}\")\n"
      ],
      "metadata": {
        "id": "11i-Q-MwUCqU"
      },
      "execution_count": null,
      "outputs": []
    },
    {
      "cell_type": "code",
      "source": [
        "import math\n",
        "\n",
        "def calculate_entropy(password):\n",
        "    all_characters = string.ascii_letters + string.digits + string.punctuation\n",
        "    possible_symbols = len(all_characters)\n",
        "\n",
        "    password_length = len(password)\n",
        "    entropy = math.log2(possible_symbols ** password_length)\n",
        "\n",
        "    return entropy\n",
        "\n",
        "# Calculate entropy\n",
        "entropy = calculate_entropy(password)\n",
        "print(f\"Password Entropy: {entropy} bits\")\n"
      ],
      "metadata": {
        "id": "j9jt17ZGUGTG"
      },
      "execution_count": null,
      "outputs": []
    },
    {
      "cell_type": "code",
      "source": [
        "def grade_complexity(entropy):\n",
        "    if entropy < 40:\n",
        "        return \"Weak\"\n",
        "    elif entropy < 80:\n",
        "        return \"Moderate\"\n",
        "    else:\n",
        "        return \"Strong\"\n",
        "\n",
        "# Get complexity\n",
        "complexity = grade_complexity(entropy)\n",
        "print(f\"Password Complexity: {complexity}\")\n"
      ],
      "metadata": {
        "id": "vrvPf4C4UJeB"
      },
      "execution_count": null,
      "outputs": []
    },
    {
      "cell_type": "code",
      "source": [
        "!pip install pytest\n"
      ],
      "metadata": {
        "id": "Wo2s0TuFUMW7"
      },
      "execution_count": null,
      "outputs": []
    },
    {
      "cell_type": "code",
      "source": [
        "!pytest test_password_generator.py\n"
      ],
      "metadata": {
        "id": "dMRHJSnsURB3"
      },
      "execution_count": null,
      "outputs": []
    }
  ]
}