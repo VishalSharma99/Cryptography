{
  "nbformat": 4,
  "nbformat_minor": 0,
  "metadata": {
    "colab": {
      "provenance": [],
      "authorship_tag": "ABX9TyOWDEsOyuO7ApHGI62CCO8j",
      "include_colab_link": true
    },
    "kernelspec": {
      "name": "python3",
      "display_name": "Python 3"
    },
    "language_info": {
      "name": "python"
    }
  },
  "cells": [
    {
      "cell_type": "markdown",
      "metadata": {
        "id": "view-in-github",
        "colab_type": "text"
      },
      "source": [
        "<a href=\"https://colab.research.google.com/github/VishalSharma99/Cryptography/blob/main/emoji_encryption.ipynb\" target=\"_parent\"><img src=\"https://colab.research.google.com/assets/colab-badge.svg\" alt=\"Open In Colab\"/></a>"
      ]
    },
    {
      "cell_type": "markdown",
      "source": [
        "Example Emoji Alphabet Mapping\n",
        "\n",
        "A = 🦄\n",
        "\n",
        "B = 🍎\n",
        "\n",
        "C = 🌙\n",
        "\n",
        "D = 🌻\n",
        "\n",
        "E = 🍓\n",
        "\n",
        "F = 🐱\n",
        "\n",
        "G = 🌲\n",
        "\n",
        "H = 🦋\n",
        "\n",
        "I = 🐼\n",
        "\n",
        "J = 🦁\n",
        "\n",
        "K = 🌞\n",
        "\n",
        "L = 🍀\n",
        "\n",
        "M = 🌺\n",
        "\n",
        "N = 🌍\n",
        "\n",
        "O = 🦋\n",
        "\n",
        "P = 🍍\n",
        "\n",
        "Q = 🍉\n",
        "\n",
        "R = 🐝\n",
        "\n",
        "S = 🦄\n",
        "\n",
        "T = 🍒\n",
        "\n",
        "U = 🌟\n",
        "\n",
        "V = 🐳\n",
        "\n",
        "W = 🦑\n",
        "\n",
        "X = 🦀\n",
        "\n",
        "Y = 🍋\n",
        "\n",
        "Z = 🍊"
      ],
      "metadata": {
        "id": "lUKzwqLdznBx"
      }
    },
    {
      "cell_type": "code",
      "execution_count": null,
      "metadata": {
        "id": "jL1XWzRxzhYv"
      },
      "outputs": [],
      "source": [
        "emoji_mapping = {\n",
        "    'A': '🦄', 'B': '🍎', 'C': '🌙', 'D': '🌻', 'E': '🍓', 'F': '🐱', 'G': '🌲',\n",
        "    'H': '🦋', 'I': '🐼', 'J': '🦁', 'K': '🌞', 'L': '🍀', 'M': '🌺', 'N': '🌍',\n",
        "    'O': '🦋', 'P': '🍍', 'Q': '🍉', 'R': '🐝', 'S': '🦄', 'T': '🍒', 'U': '🌟',\n",
        "    'V': '🐳', 'W': '🦑', 'X': '🦀', 'Y': '🍋', 'Z': '🍊',\n",
        "    '0': '0️⃣', '1': '1️⃣', '2': '2️⃣', '3': '3️⃣', '4': '4️⃣', '5': '5️⃣', '6': '6️⃣',\n",
        "    '7': '7️⃣', '8': '8️⃣', '9': '9️⃣',\n",
        "    ' ': '⏹', '.': '🔵', ',': '🔴', '!': '❗', '?': '❓'\n",
        "}"
      ]
    },
    {
      "cell_type": "code",
      "source": [
        "import random\n",
        "\n",
        "def encrypt_message(message, key):\n",
        "    encrypted_message = []\n",
        "    emoji_list = list(emoji_mapping.values())\n",
        "    char_list = list(emoji_mapping.keys())\n",
        "\n",
        "\n",
        "    if len(message) != len(key):\n",
        "        raise ValueError(\"Message and key must have the same length.\")\n",
        "\n",
        "\n",
        "    for i in range(len(message)):\n",
        "        msg_char = message[i].upper()\n",
        "        key_char = key[i]\n",
        "\n",
        "        if msg_char not in emoji_mapping or key_char not in emoji_list:\n",
        "            raise ValueError(f\"Character '{msg_char}' or '{key_char}' not found in emoji mapping.\")\n",
        "\n",
        "        msg_index = char_list.index(msg_char)\n",
        "        key_index = emoji_list.index(key_char)\n",
        "\n",
        "        encrypted_index = (msg_index + key_index) % len(emoji_mapping)\n",
        "        encrypted_message.append(emoji_list[encrypted_index])\n",
        "\n",
        "    return ''.join(encrypted_message)"
      ],
      "metadata": {
        "id": "OxB3Vx5xDYFi"
      },
      "execution_count": null,
      "outputs": []
    },
    {
      "cell_type": "code",
      "source": [
        "def decrypt_message(encrypted_message, key):\n",
        "    decrypted_message = []\n",
        "    emoji_list = list(emoji_mapping.values())\n",
        "    char_list = list(emoji_mapping.keys())\n",
        "\n",
        "    if len(encrypted_message) != len(key):\n",
        "        raise ValueError(\"Encrypted message and key must have the same length.\")\n",
        "\n",
        "    for i in range(len(encrypted_message)):\n",
        "        enc_char = encrypted_message[i]\n",
        "        key_char = key[i]\n",
        "\n",
        "        if enc_char not in emoji_list or key_char not in emoji_list:\n",
        "            raise ValueError(f\"Character '{enc_char}' or '{key_char}' not found in emoji mapping.\")\n",
        "\n",
        "        enc_index = emoji_list.index(enc_char)\n",
        "        key_index = emoji_list.index(key_char)\n",
        "\n",
        "        decrypted_index = (enc_index - key_index) % len(emoji_mapping)\n",
        "        decrypted_message.append(char_list[decrypted_index])\n",
        "\n",
        "    return ''.join(decrypted_message)"
      ],
      "metadata": {
        "id": "q8oT4isaDgRj"
      },
      "execution_count": null,
      "outputs": []
    },
    {
      "cell_type": "code",
      "source": [
        "def generate_random_key(message_length):\n",
        "    random_key = []\n",
        "    emoji_list = list(emoji_mapping.values())\n",
        "    for _ in range(message_length):\n",
        "        random_key.append(random.choice(emoji_list))\n",
        "    return ''.join(random_key)"
      ],
      "metadata": {
        "id": "kYDsNTGaDnLK"
      },
      "execution_count": null,
      "outputs": []
    },
    {
      "cell_type": "code",
      "source": [
        "def main():\n",
        "    print(\"Welcome to the Emoji One-Time Pad Encryption System!\")\n",
        "    message = input(\"Enter a message to encrypt: \")\n",
        "    key = input(f\"Enter a key of length {len(message)}: \")\n",
        "\n",
        "    if len(key) != len(message):\n",
        "        print(\"Error: Key length must match the message length.\")\n",
        "        return\n",
        "\n",
        "\n",
        "    random_key = generate_random_key(len(message))\n",
        "\n",
        "    print(\"\\nRandom Key Generated:\", random_key)\n",
        "\n",
        "    encrypted_message = encrypt_message(message, random_key)\n",
        "    print(\"\\nEncrypted Message:\", encrypted_message)\n",
        "\n",
        "    decrypted_message = decrypt_message(encrypted_message, random_key)\n",
        "    print(\"\\nDecrypted Message:\", decrypted_message)\n"
      ],
      "metadata": {
        "id": "4T9SMKcyDoOW"
      },
      "execution_count": null,
      "outputs": []
    },
    {
      "cell_type": "code",
      "source": [
        "def save_encrypted_message(file_name, encrypted_message):\n",
        "    with open(file_name, 'w') as f:\n",
        "        f.write(encrypted_message)\n",
        "    print(f\"Encrypted message saved to {file_name}\")\n",
        "\n",
        "def load_encrypted_message(file_name):\n",
        "    try:\n",
        "        with open(file_name, 'r') as f:\n",
        "            return f.read()\n",
        "    except FileNotFoundError:\n",
        "        print(f\"Error: The file {file_name} does not exist.\")\n",
        "        return None\n"
      ],
      "metadata": {
        "id": "ahatGr_jDsX6"
      },
      "execution_count": null,
      "outputs": []
    },
    {
      "cell_type": "code",
      "source": [
        "if __name__ == \"__main__\":\n",
        "    main()\n",
        "\n"
      ],
      "metadata": {
        "id": "gN6W-tgpDwmA"
      },
      "execution_count": null,
      "outputs": []
    },
    {
      "cell_type": "code",
      "source": [
        "def test_emoji_encryption():\n",
        "    message = \"HELLO\"\n",
        "    key = \"🍍🌻🦋🌲🦄\"\n",
        "    emoji_list = list(emoji_mapping.values())\n",
        "    char_list = list(emoji_mapping.keys())\n",
        "\n",
        "    key_list = [char for char in key]\n",
        "\n",
        "    encrypted_message = encrypt_message(message, key_list)\n",
        "\n",
        "    expected_encrypted_message = \"\"\n",
        "    for i in range(len(message)):\n",
        "        msg_char = message[i].upper()\n",
        "        key_char = key_list[i]\n",
        "        msg_index = char_list.index(msg_char)\n",
        "        key_index = emoji_list.index(key_char)\n",
        "        encrypted_index = (msg_index + key_index) % len(emoji_mapping)\n",
        "        expected_encrypted_message += emoji_list[encrypted_index]\n",
        "\n",
        "    assert encrypted_message == expected_encrypted_message, f\"Test failed! Encrypted message: {encrypted_message}\"\n",
        "\n",
        "    decrypted_message = decrypt_message(encrypted_message, key_list)\n",
        "    assert decrypted_message == \"HELLO\", f\"Test failed! Decrypted message: {decrypted_message}\"\n",
        "\n",
        "    print(\"Test passed!\")\n",
        "\n",
        "\n",
        "test_emoji_encryption()"
      ],
      "metadata": {
        "id": "5tiTBaVtEMdK"
      },
      "execution_count": null,
      "outputs": []
    },
    {
      "cell_type": "code",
      "source": [
        "import random\n",
        "\n",
        "\n",
        "emoji_mapping = {\n",
        "    'A': '🦄', 'B': '🍎', 'C': '🌙', 'D': '🌻', 'E': '🍓', 'F': '🐱', 'G': '🌲',\n",
        "    'H': '🦋', 'I': '🐼', 'J': '🦁', 'K': '🌞', 'L': '🍀', 'M': '🌺', 'N': '🌍',\n",
        "    'O': '🦋', 'P': '🍍', 'Q': '🍉', 'R': '🐝', 'S': '🦄', 'T': '🍒', 'U': '🌟',\n",
        "    'V': '🐳', 'W': '🦑', 'X': '🦀', 'Y': '🍋', 'Z': '🍊',\n",
        "    '0': '0️⃣', '1': '1️⃣', '2': '2️⃣', '3': '3️⃣', '4': '4️⃣', '5': '5️⃣', '6': '6️⃣',\n",
        "    '7': '7️⃣', '8': '8️⃣', '9': '9️⃣',\n",
        "    ' ': '⏹', '.': '🔵', ',': '🔴', '!': '❗', '?': '❓'\n",
        "}\n",
        "\n",
        "def encrypt_message(message, key):\n",
        "    encrypted_message = []\n",
        "    if len(message) != len(key):\n",
        "        raise ValueError(\"Message and key must have the same length.\")\n",
        "\n",
        "    for i in range(len(message)):\n",
        "        msg_char = message[i].upper()\n",
        "        key_char = key[i].upper()\n",
        "\n",
        "        if msg_char not in emoji_mapping or key_char not in emoji_mapping:\n",
        "            raise ValueError(f\"Character '{msg_char}' or '{key_char}' not found in emoji mapping.\")\n",
        "\n",
        "        encrypted_message.append(emoji_mapping[msg_char] + emoji_mapping[key_char])\n",
        "\n",
        "    return ''.join(encrypted_message)\n",
        "\n",
        "def decrypt_message(encrypted_message, key):\n",
        "    decrypted_message = []\n",
        "    if len(encrypted_message) != len(key):\n",
        "        raise ValueError(\"Encrypted message and key must have the same length.\")\n",
        "\n",
        "    for i in range(len(encrypted_message)):\n",
        "        enc_char = encrypted_message[i]\n",
        "        key_char = key[i]\n",
        "\n",
        "        if enc_char not in emoji_mapping or key_char not in emoji_mapping:\n",
        "            raise ValueError(f\"Character '{enc_char}' or '{key_char}' not found in emoji mapping.\")\n",
        "\n",
        "        decrypted_message.append(emoji_mapping[msg_char] + emoji_mapping[key_char])\n",
        "\n",
        "    return ''.join(decrypted_message)\n",
        "\n",
        "def generate_random_key(message_length):\n",
        "    random_key = []\n",
        "    for _ in range(message_length):\n",
        "        random_key.append(random.choice(list(emoji_mapping.values())))\n",
        "    return ''.join(random_key)\n",
        "\n",
        "def main():\n",
        "    print(\"Welcome to the Emoji One-Time Pad Encryption System!\")\n",
        "    message = input(\"Enter a message to encrypt: \")\n",
        "\n",
        "\n",
        "    random_key = generate_random_key(len(message))\n",
        "    print(f\"\\nRandom Key Generated: {random_key}\")\n",
        "\n",
        "    encrypted_message = encrypt_message(message, random_key)\n",
        "    print(\"\\nEncrypted Message:\", encrypted_message)\n",
        "\n",
        "    decrypted_message = decrypt_message(encrypted_message, random_key)\n",
        "    print(\"\\nDecrypted Message:\", decrypted_message)\n",
        "\n",
        "if __name__ == \"__main__\":\n",
        "    main()\n"
      ],
      "metadata": {
        "id": "8L6ly-YFE00b"
      },
      "execution_count": null,
      "outputs": []
    }
  ]
}